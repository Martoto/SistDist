{
 "cells": [
  {
   "cell_type": "code",
   "execution_count": 2,
   "metadata": {},
   "outputs": [],
   "source": [
    "from Crypto.PublicKey import RSA\n",
    "from Crypto.Signature import pkcs1_15\n",
    "from Crypto.Hash import SHA256\n",
    "\n"
   ]
  },
  {
   "cell_type": "code",
   "execution_count": 17,
   "metadata": {},
   "outputs": [],
   "source": [
    "message = \"Hello\""
   ]
  },
  {
   "cell_type": "code",
   "execution_count": 21,
   "metadata": {},
   "outputs": [],
   "source": [
    "key = RSA.generate(2048)"
   ]
  },
  {
   "cell_type": "code",
   "execution_count": 19,
   "metadata": {},
   "outputs": [],
   "source": [
    "h = SHA256.new(message.encode('utf-8'))"
   ]
  },
  {
   "cell_type": "code",
   "execution_count": 22,
   "metadata": {},
   "outputs": [],
   "source": [
    "signature = pkcs1_15.new(key).sign(h)"
   ]
  },
  {
   "cell_type": "code",
   "execution_count": 32,
   "metadata": {},
   "outputs": [],
   "source": [
    "pubkey = key.publickey().export_key().decode('utf-8')"
   ]
  },
  {
   "cell_type": "code",
   "execution_count": 33,
   "metadata": {},
   "outputs": [
    {
     "data": {
      "text/plain": [
       "'-----BEGIN PUBLIC KEY-----\\nMIIBIjANBgkqhkiG9w0BAQEFAAOCAQ8AMIIBCgKCAQEAmRQQd4MVu6p5Iv7G/52L\\n8UaHWTWEnMhwjTw78MLUXHTHZxGSvmijRC3XJVS5l00cRJUKfY01HfYkjGzrJzZ8\\nTE7akwJsKhQg5biIq9Bv3JvDuQM3WMQTsQlc7M1eQBZoFJb3xXXM/obPm0ArL3WJ\\n55p1WN3gvrEz9Kll71lKu7/M8YCNP2bWTI/MHaIVKK02JoiSwA9NXMIU3+b4RhYe\\nkHtl68+WavM2ZteRKIlpgod2x5VtVJTa7pFNKji6OYcVBZwqpGUZnzcmLR4dYUEH\\nVY69yHgr6H9deNxPjyu3is/57rAaK8tgypk74dleF9GcG5psdsC97o0WULQtqdX5\\nwQIDAQAB\\n-----END PUBLIC KEY-----'"
      ]
     },
     "execution_count": 33,
     "metadata": {},
     "output_type": "execute_result"
    }
   ],
   "source": [
    "pubkey"
   ]
  },
  {
   "cell_type": "code",
   "execution_count": 34,
   "metadata": {},
   "outputs": [
    {
     "name": "stdout",
     "output_type": "stream",
     "text": [
      "The signature is valid.\n"
     ]
    }
   ],
   "source": [
    "exKey = RSA.import_key(pubkey)\n",
    "\n",
    "h = SHA256.new(\"Hello\".encode('utf-8'))\n",
    "\n",
    "try:\n",
    "\n",
    "    pkcs1_15.new(exKey).verify(h, signature)\n",
    "    print (\"The signature is valid.\")\n",
    "\n",
    "except (ValueError, TypeError):\n",
    "   print (\"The signature is not valid.\")"
   ]
  }
 ],
 "metadata": {
  "kernelspec": {
   "display_name": "Python 3",
   "language": "python",
   "name": "python3"
  },
  "language_info": {
   "codemirror_mode": {
    "name": "ipython",
    "version": 3
   },
   "file_extension": ".py",
   "mimetype": "text/x-python",
   "name": "python",
   "nbconvert_exporter": "python",
   "pygments_lexer": "ipython3",
   "version": "3.9.13"
  },
  "orig_nbformat": 4
 },
 "nbformat": 4,
 "nbformat_minor": 2
}
